{
  "nbformat": 4,
  "nbformat_minor": 0,
  "metadata": {
    "colab": {
      "name": "AI_CAT2",
      "provenance": [],
      "collapsed_sections": [
        "USkXzHHsKHmR"
      ],
      "authorship_tag": "ABX9TyPPA3RxL3IzIYEi+p+IirBY"
    },
    "kernelspec": {
      "display_name": "Python 3",
      "name": "python3"
    }
  },
  "cells": [
    {
      "cell_type": "markdown",
      "metadata": {
        "id": "MgHuKYeMez8c"
      },
      "source": [
        "# **ARTIFICIAL INTELLIGENCE CAT 2 (GROUP WORK)**\n",
        "\n",
        "## Diabetes Progression Analysis using Artificial Neural Network Model\n",
        "\n",
        "### Group Members\n",
        "\n",
        "\n",
        "*   Muli Postinah - 108222\n",
        "*   Chelsea Wanjiku - 112269\n",
        "*   Esther Ndegwa - 111530\n",
        "*   Ayiera Nasha - 110503\n",
        "\n"
      ]
    },
    {
      "cell_type": "markdown",
      "metadata": {
        "id": "-5a0KaxbiDdn"
      },
      "source": [
        "## **Introduction**\n",
        "This dataset is based on a study that was carried out on diabetic patients. \n",
        "\n",
        "There are 10 baseline requirements that were obtained from each of the 442 patients :\n",
        "* Age\n",
        "* Sex\n",
        "* Body ass Index\n",
        "* Average Blood Pressure\n",
        "* 6 blood serum measuremts\n",
        "\n",
        "Each of the requirements have been mean centered and scaled by the standard deviation times n_samples.\n",
        "\n",
        "\n",
        "A year later, the quantitative measure of disease progression - one year after baseline requirements were collected.\n"
      ]
    },
    {
      "cell_type": "markdown",
      "metadata": {
        "id": "USkXzHHsKHmR"
      },
      "source": [
        "## Importing Libraries and Data"
      ]
    },
    {
      "cell_type": "code",
      "metadata": {
        "id": "voK2AVo9UgF3"
      },
      "source": [
        "import pandas as pdsets \n",
        "from sklearn import datasets\n",
        "from sklearn.preprocessing import LabelEncoder\n",
        "from sklearn.model_selection import train_test_split\n"
      ],
      "execution_count": 457,
      "outputs": []
    },
    {
      "cell_type": "code",
      "metadata": {
        "id": "PaDZoZq5U575"
      },
      "source": [
        "\n",
        "# Load the dataset\n",
        "diabetes_data=datasets.load_diabetes()"
      ],
      "execution_count": 458,
      "outputs": []
    },
    {
      "cell_type": "code",
      "metadata": {
        "colab": {
          "base_uri": "https://localhost:8080/"
        },
        "id": "gVJY2EVTst28",
        "outputId": "1710eb9d-7ba8-4073-83c6-f4ed53586976"
      },
      "source": [
        "diabetes_data.data.shape"
      ],
      "execution_count": 459,
      "outputs": [
        {
          "output_type": "execute_result",
          "data": {
            "text/plain": [
              "(442, 10)"
            ]
          },
          "metadata": {
            "tags": []
          },
          "execution_count": 459
        }
      ]
    },
    {
      "cell_type": "markdown",
      "metadata": {
        "id": "wz1cQWpmtxWh"
      },
      "source": [
        "Display contents of the dataset"
      ]
    },
    {
      "cell_type": "code",
      "metadata": {
        "colab": {
          "base_uri": "https://localhost:8080/"
        },
        "id": "duzNZ9lUsV0D",
        "outputId": "f505bfa2-a7dc-499b-d498-ae50ae806078"
      },
      "source": [
        "diabetes_data.keys()"
      ],
      "execution_count": 460,
      "outputs": [
        {
          "output_type": "execute_result",
          "data": {
            "text/plain": [
              "dict_keys(['data', 'target', 'DESCR', 'feature_names', 'data_filename', 'target_filename'])"
            ]
          },
          "metadata": {
            "tags": []
          },
          "execution_count": 460
        }
      ]
    },
    {
      "cell_type": "code",
      "metadata": {
        "colab": {
          "base_uri": "https://localhost:8080/",
          "height": 225
        },
        "id": "PunJeKxDDlxS",
        "outputId": "950e912e-26c3-416e-b86f-a6bdd05d8fed"
      },
      "source": [
        "diabetes_data.DESCR"
      ],
      "execution_count": 461,
      "outputs": [
        {
          "output_type": "execute_result",
          "data": {
            "application/vnd.google.colaboratory.intrinsic+json": {
              "type": "string"
            },
            "text/plain": [
              "'.. _diabetes_dataset:\\n\\nDiabetes dataset\\n----------------\\n\\nTen baseline variables, age, sex, body mass index, average blood\\npressure, and six blood serum measurements were obtained for each of n =\\n442 diabetes patients, as well as the response of interest, a\\nquantitative measure of disease progression one year after baseline.\\n\\n**Data Set Characteristics:**\\n\\n  :Number of Instances: 442\\n\\n  :Number of Attributes: First 10 columns are numeric predictive values\\n\\n  :Target: Column 11 is a quantitative measure of disease progression one year after baseline\\n\\n  :Attribute Information:\\n      - Age\\n      - Sex\\n      - Body mass index\\n      - Average blood pressure\\n      - S1\\n      - S2\\n      - S3\\n      - S4\\n      - S5\\n      - S6\\n\\nNote: Each of these 10 feature variables have been mean centered and scaled by the standard deviation times `n_samples` (i.e. the sum of squares of each column totals 1).\\n\\nSource URL:\\nhttps://www4.stat.ncsu.edu/~boos/var.select/diabetes.html\\n\\nFor more information see:\\nBradley Efron, Trevor Hastie, Iain Johnstone and Robert Tibshirani (2004) \"Least Angle Regression,\" Annals of Statistics (with discussion), 407-499.\\n(https://web.stanford.edu/~hastie/Papers/LARS/LeastAngle_2002.pdf)'"
            ]
          },
          "metadata": {
            "tags": []
          },
          "execution_count": 461
        }
      ]
    },
    {
      "cell_type": "code",
      "metadata": {
        "colab": {
          "base_uri": "https://localhost:8080/"
        },
        "id": "SQ0DgAGEDv_b",
        "outputId": "ade5088a-d314-4bcc-ba45-ebbb12ffc6d2"
      },
      "source": [
        "diabetes_data.feature_names"
      ],
      "execution_count": 462,
      "outputs": [
        {
          "output_type": "execute_result",
          "data": {
            "text/plain": [
              "['age', 'sex', 'bmi', 'bp', 's1', 's2', 's3', 's4', 's5', 's6']"
            ]
          },
          "metadata": {
            "tags": []
          },
          "execution_count": 462
        }
      ]
    },
    {
      "cell_type": "markdown",
      "metadata": {
        "id": "PJ0pl4GSt2Ys"
      },
      "source": [
        "Check dataset type before converting to pandas dataframe for easier analysis"
      ]
    },
    {
      "cell_type": "code",
      "metadata": {
        "colab": {
          "base_uri": "https://localhost:8080/"
        },
        "id": "7JIFm5sUmY8w",
        "outputId": "8d0a929a-09cb-4b2d-843f-05265e9bbe57"
      },
      "source": [
        "print(type(diabetes_data))"
      ],
      "execution_count": 463,
      "outputs": [
        {
          "output_type": "stream",
          "text": [
            "<class 'sklearn.utils.Bunch'>\n"
          ],
          "name": "stdout"
        }
      ]
    },
    {
      "cell_type": "markdown",
      "metadata": {
        "id": "_rPLWA9XvAWo"
      },
      "source": [
        "Convert Scikit-learn dataset to a pandas dataframe for easier manipulation( solution without numpy )\n",
        "\n",
        "\n",
        "\n",
        "\n",
        "\n",
        "\n"
      ]
    },
    {
      "cell_type": "code",
      "metadata": {
        "id": "6Z37MxKNuwyK"
      },
      "source": [
        "df_diabetes = pd.DataFrame(diabetes_data.data,columns=diabetes_data.feature_names)\n",
        "df_diabetes['target'] = pd.Series(diabetes_data.target)"
      ],
      "execution_count": 464,
      "outputs": []
    },
    {
      "cell_type": "code",
      "metadata": {
        "colab": {
          "base_uri": "https://localhost:8080/"
        },
        "id": "3U_Drsxawy_I",
        "outputId": "2ac0f482-c570-499e-907b-5fb7b272d925"
      },
      "source": [
        "# Confirm type of new dataset \n",
        "type(df_diabetes)"
      ],
      "execution_count": 466,
      "outputs": [
        {
          "output_type": "execute_result",
          "data": {
            "text/plain": [
              "pandas.core.frame.DataFrame"
            ]
          },
          "metadata": {
            "tags": []
          },
          "execution_count": 466
        }
      ]
    },
    {
      "cell_type": "code",
      "metadata": {
        "colab": {
          "base_uri": "https://localhost:8080/"
        },
        "id": "dqfZajP50esb",
        "outputId": "e897542c-5acb-429b-e691-ca829a57e7e3"
      },
      "source": [
        "df_diabetes.shape"
      ],
      "execution_count": 467,
      "outputs": [
        {
          "output_type": "execute_result",
          "data": {
            "text/plain": [
              "(442, 11)"
            ]
          },
          "metadata": {
            "tags": []
          },
          "execution_count": 467
        }
      ]
    },
    {
      "cell_type": "code",
      "metadata": {
        "colab": {
          "base_uri": "https://localhost:8080/"
        },
        "id": "catWFcYGFSH6",
        "outputId": "d37b4588-0b64-457d-c36a-bd63086f9bf8"
      },
      "source": [
        "# Check for null values \n",
        "df_diabetes.isnull().sum()"
      ],
      "execution_count": 468,
      "outputs": [
        {
          "output_type": "execute_result",
          "data": {
            "text/plain": [
              "age       0\n",
              "sex       0\n",
              "bmi       0\n",
              "bp        0\n",
              "s1        0\n",
              "s2        0\n",
              "s3        0\n",
              "s4        0\n",
              "s5        0\n",
              "s6        0\n",
              "target    0\n",
              "dtype: int64"
            ]
          },
          "metadata": {
            "tags": []
          },
          "execution_count": 468
        }
      ]
    },
    {
      "cell_type": "code",
      "metadata": {
        "colab": {
          "base_uri": "https://localhost:8080/",
          "height": 224
        },
        "id": "wSouxF3WrMx5",
        "outputId": "7df20577-21f8-4275-a727-fc7abc5d2abb"
      },
      "source": [
        "# Display top 5 rows\n",
        "df_diabetes.head(5)"
      ],
      "execution_count": 469,
      "outputs": [
        {
          "output_type": "execute_result",
          "data": {
            "text/html": [
              "<div>\n",
              "<style scoped>\n",
              "    .dataframe tbody tr th:only-of-type {\n",
              "        vertical-align: middle;\n",
              "    }\n",
              "\n",
              "    .dataframe tbody tr th {\n",
              "        vertical-align: top;\n",
              "    }\n",
              "\n",
              "    .dataframe thead th {\n",
              "        text-align: right;\n",
              "    }\n",
              "</style>\n",
              "<table border=\"1\" class=\"dataframe\">\n",
              "  <thead>\n",
              "    <tr style=\"text-align: right;\">\n",
              "      <th></th>\n",
              "      <th>age</th>\n",
              "      <th>sex</th>\n",
              "      <th>bmi</th>\n",
              "      <th>bp</th>\n",
              "      <th>s1</th>\n",
              "      <th>s2</th>\n",
              "      <th>s3</th>\n",
              "      <th>s4</th>\n",
              "      <th>s5</th>\n",
              "      <th>s6</th>\n",
              "      <th>target</th>\n",
              "    </tr>\n",
              "  </thead>\n",
              "  <tbody>\n",
              "    <tr>\n",
              "      <th>0</th>\n",
              "      <td>0.038076</td>\n",
              "      <td>0.050680</td>\n",
              "      <td>0.061696</td>\n",
              "      <td>0.021872</td>\n",
              "      <td>-0.044223</td>\n",
              "      <td>-0.034821</td>\n",
              "      <td>-0.043401</td>\n",
              "      <td>-0.002592</td>\n",
              "      <td>0.019908</td>\n",
              "      <td>-0.017646</td>\n",
              "      <td>151.0</td>\n",
              "    </tr>\n",
              "    <tr>\n",
              "      <th>1</th>\n",
              "      <td>-0.001882</td>\n",
              "      <td>-0.044642</td>\n",
              "      <td>-0.051474</td>\n",
              "      <td>-0.026328</td>\n",
              "      <td>-0.008449</td>\n",
              "      <td>-0.019163</td>\n",
              "      <td>0.074412</td>\n",
              "      <td>-0.039493</td>\n",
              "      <td>-0.068330</td>\n",
              "      <td>-0.092204</td>\n",
              "      <td>75.0</td>\n",
              "    </tr>\n",
              "    <tr>\n",
              "      <th>2</th>\n",
              "      <td>0.085299</td>\n",
              "      <td>0.050680</td>\n",
              "      <td>0.044451</td>\n",
              "      <td>-0.005671</td>\n",
              "      <td>-0.045599</td>\n",
              "      <td>-0.034194</td>\n",
              "      <td>-0.032356</td>\n",
              "      <td>-0.002592</td>\n",
              "      <td>0.002864</td>\n",
              "      <td>-0.025930</td>\n",
              "      <td>141.0</td>\n",
              "    </tr>\n",
              "    <tr>\n",
              "      <th>3</th>\n",
              "      <td>-0.089063</td>\n",
              "      <td>-0.044642</td>\n",
              "      <td>-0.011595</td>\n",
              "      <td>-0.036656</td>\n",
              "      <td>0.012191</td>\n",
              "      <td>0.024991</td>\n",
              "      <td>-0.036038</td>\n",
              "      <td>0.034309</td>\n",
              "      <td>0.022692</td>\n",
              "      <td>-0.009362</td>\n",
              "      <td>206.0</td>\n",
              "    </tr>\n",
              "    <tr>\n",
              "      <th>4</th>\n",
              "      <td>0.005383</td>\n",
              "      <td>-0.044642</td>\n",
              "      <td>-0.036385</td>\n",
              "      <td>0.021872</td>\n",
              "      <td>0.003935</td>\n",
              "      <td>0.015596</td>\n",
              "      <td>0.008142</td>\n",
              "      <td>-0.002592</td>\n",
              "      <td>-0.031991</td>\n",
              "      <td>-0.046641</td>\n",
              "      <td>135.0</td>\n",
              "    </tr>\n",
              "  </tbody>\n",
              "</table>\n",
              "</div>"
            ],
            "text/plain": [
              "        age       sex       bmi        bp  ...        s4        s5        s6  target\n",
              "0  0.038076  0.050680  0.061696  0.021872  ... -0.002592  0.019908 -0.017646   151.0\n",
              "1 -0.001882 -0.044642 -0.051474 -0.026328  ... -0.039493 -0.068330 -0.092204    75.0\n",
              "2  0.085299  0.050680  0.044451 -0.005671  ... -0.002592  0.002864 -0.025930   141.0\n",
              "3 -0.089063 -0.044642 -0.011595 -0.036656  ...  0.034309  0.022692 -0.009362   206.0\n",
              "4  0.005383 -0.044642 -0.036385  0.021872  ... -0.002592 -0.031991 -0.046641   135.0\n",
              "\n",
              "[5 rows x 11 columns]"
            ]
          },
          "metadata": {
            "tags": []
          },
          "execution_count": 469
        }
      ]
    },
    {
      "cell_type": "code",
      "metadata": {
        "colab": {
          "base_uri": "https://localhost:8080/",
          "height": 224
        },
        "id": "qVIIWotetVwn",
        "outputId": "69ee330d-f411-4f8b-dcdb-c28605d82b0d"
      },
      "source": [
        "# Display bottom 5 rows \n",
        "df_diabetes.tail(5)"
      ],
      "execution_count": 470,
      "outputs": [
        {
          "output_type": "execute_result",
          "data": {
            "text/html": [
              "<div>\n",
              "<style scoped>\n",
              "    .dataframe tbody tr th:only-of-type {\n",
              "        vertical-align: middle;\n",
              "    }\n",
              "\n",
              "    .dataframe tbody tr th {\n",
              "        vertical-align: top;\n",
              "    }\n",
              "\n",
              "    .dataframe thead th {\n",
              "        text-align: right;\n",
              "    }\n",
              "</style>\n",
              "<table border=\"1\" class=\"dataframe\">\n",
              "  <thead>\n",
              "    <tr style=\"text-align: right;\">\n",
              "      <th></th>\n",
              "      <th>age</th>\n",
              "      <th>sex</th>\n",
              "      <th>bmi</th>\n",
              "      <th>bp</th>\n",
              "      <th>s1</th>\n",
              "      <th>s2</th>\n",
              "      <th>s3</th>\n",
              "      <th>s4</th>\n",
              "      <th>s5</th>\n",
              "      <th>s6</th>\n",
              "      <th>target</th>\n",
              "    </tr>\n",
              "  </thead>\n",
              "  <tbody>\n",
              "    <tr>\n",
              "      <th>437</th>\n",
              "      <td>0.041708</td>\n",
              "      <td>0.050680</td>\n",
              "      <td>0.019662</td>\n",
              "      <td>0.059744</td>\n",
              "      <td>-0.005697</td>\n",
              "      <td>-0.002566</td>\n",
              "      <td>-0.028674</td>\n",
              "      <td>-0.002592</td>\n",
              "      <td>0.031193</td>\n",
              "      <td>0.007207</td>\n",
              "      <td>178.0</td>\n",
              "    </tr>\n",
              "    <tr>\n",
              "      <th>438</th>\n",
              "      <td>-0.005515</td>\n",
              "      <td>0.050680</td>\n",
              "      <td>-0.015906</td>\n",
              "      <td>-0.067642</td>\n",
              "      <td>0.049341</td>\n",
              "      <td>0.079165</td>\n",
              "      <td>-0.028674</td>\n",
              "      <td>0.034309</td>\n",
              "      <td>-0.018118</td>\n",
              "      <td>0.044485</td>\n",
              "      <td>104.0</td>\n",
              "    </tr>\n",
              "    <tr>\n",
              "      <th>439</th>\n",
              "      <td>0.041708</td>\n",
              "      <td>0.050680</td>\n",
              "      <td>-0.015906</td>\n",
              "      <td>0.017282</td>\n",
              "      <td>-0.037344</td>\n",
              "      <td>-0.013840</td>\n",
              "      <td>-0.024993</td>\n",
              "      <td>-0.011080</td>\n",
              "      <td>-0.046879</td>\n",
              "      <td>0.015491</td>\n",
              "      <td>132.0</td>\n",
              "    </tr>\n",
              "    <tr>\n",
              "      <th>440</th>\n",
              "      <td>-0.045472</td>\n",
              "      <td>-0.044642</td>\n",
              "      <td>0.039062</td>\n",
              "      <td>0.001215</td>\n",
              "      <td>0.016318</td>\n",
              "      <td>0.015283</td>\n",
              "      <td>-0.028674</td>\n",
              "      <td>0.026560</td>\n",
              "      <td>0.044528</td>\n",
              "      <td>-0.025930</td>\n",
              "      <td>220.0</td>\n",
              "    </tr>\n",
              "    <tr>\n",
              "      <th>441</th>\n",
              "      <td>-0.045472</td>\n",
              "      <td>-0.044642</td>\n",
              "      <td>-0.073030</td>\n",
              "      <td>-0.081414</td>\n",
              "      <td>0.083740</td>\n",
              "      <td>0.027809</td>\n",
              "      <td>0.173816</td>\n",
              "      <td>-0.039493</td>\n",
              "      <td>-0.004220</td>\n",
              "      <td>0.003064</td>\n",
              "      <td>57.0</td>\n",
              "    </tr>\n",
              "  </tbody>\n",
              "</table>\n",
              "</div>"
            ],
            "text/plain": [
              "          age       sex       bmi  ...        s5        s6  target\n",
              "437  0.041708  0.050680  0.019662  ...  0.031193  0.007207   178.0\n",
              "438 -0.005515  0.050680 -0.015906  ... -0.018118  0.044485   104.0\n",
              "439  0.041708  0.050680 -0.015906  ... -0.046879  0.015491   132.0\n",
              "440 -0.045472 -0.044642  0.039062  ...  0.044528 -0.025930   220.0\n",
              "441 -0.045472 -0.044642 -0.073030  ... -0.004220  0.003064    57.0\n",
              "\n",
              "[5 rows x 11 columns]"
            ]
          },
          "metadata": {
            "tags": []
          },
          "execution_count": 470
        }
      ]
    },
    {
      "cell_type": "markdown",
      "metadata": {
        "id": "wRmO6TFa8CJi"
      },
      "source": [
        "Get insight on the dataframe"
      ]
    },
    {
      "cell_type": "code",
      "metadata": {
        "colab": {
          "base_uri": "https://localhost:8080/",
          "height": 385
        },
        "id": "nqwqKEaRs38Z",
        "outputId": "a3478cef-44cf-493a-df14-fe7ed1b781e4"
      },
      "source": [
        "df_diabetes.describe()"
      ],
      "execution_count": 471,
      "outputs": [
        {
          "output_type": "execute_result",
          "data": {
            "text/html": [
              "<div>\n",
              "<style scoped>\n",
              "    .dataframe tbody tr th:only-of-type {\n",
              "        vertical-align: middle;\n",
              "    }\n",
              "\n",
              "    .dataframe tbody tr th {\n",
              "        vertical-align: top;\n",
              "    }\n",
              "\n",
              "    .dataframe thead th {\n",
              "        text-align: right;\n",
              "    }\n",
              "</style>\n",
              "<table border=\"1\" class=\"dataframe\">\n",
              "  <thead>\n",
              "    <tr style=\"text-align: right;\">\n",
              "      <th></th>\n",
              "      <th>age</th>\n",
              "      <th>sex</th>\n",
              "      <th>bmi</th>\n",
              "      <th>bp</th>\n",
              "      <th>s1</th>\n",
              "      <th>s2</th>\n",
              "      <th>s3</th>\n",
              "      <th>s4</th>\n",
              "      <th>s5</th>\n",
              "      <th>s6</th>\n",
              "      <th>target</th>\n",
              "    </tr>\n",
              "  </thead>\n",
              "  <tbody>\n",
              "    <tr>\n",
              "      <th>count</th>\n",
              "      <td>4.420000e+02</td>\n",
              "      <td>4.420000e+02</td>\n",
              "      <td>4.420000e+02</td>\n",
              "      <td>4.420000e+02</td>\n",
              "      <td>4.420000e+02</td>\n",
              "      <td>4.420000e+02</td>\n",
              "      <td>4.420000e+02</td>\n",
              "      <td>4.420000e+02</td>\n",
              "      <td>4.420000e+02</td>\n",
              "      <td>4.420000e+02</td>\n",
              "      <td>442.000000</td>\n",
              "    </tr>\n",
              "    <tr>\n",
              "      <th>mean</th>\n",
              "      <td>-3.634285e-16</td>\n",
              "      <td>1.308343e-16</td>\n",
              "      <td>-8.045349e-16</td>\n",
              "      <td>1.281655e-16</td>\n",
              "      <td>-8.835316e-17</td>\n",
              "      <td>1.327024e-16</td>\n",
              "      <td>-4.574646e-16</td>\n",
              "      <td>3.777301e-16</td>\n",
              "      <td>-3.830854e-16</td>\n",
              "      <td>-3.412882e-16</td>\n",
              "      <td>152.133484</td>\n",
              "    </tr>\n",
              "    <tr>\n",
              "      <th>std</th>\n",
              "      <td>4.761905e-02</td>\n",
              "      <td>4.761905e-02</td>\n",
              "      <td>4.761905e-02</td>\n",
              "      <td>4.761905e-02</td>\n",
              "      <td>4.761905e-02</td>\n",
              "      <td>4.761905e-02</td>\n",
              "      <td>4.761905e-02</td>\n",
              "      <td>4.761905e-02</td>\n",
              "      <td>4.761905e-02</td>\n",
              "      <td>4.761905e-02</td>\n",
              "      <td>77.093005</td>\n",
              "    </tr>\n",
              "    <tr>\n",
              "      <th>min</th>\n",
              "      <td>-1.072256e-01</td>\n",
              "      <td>-4.464164e-02</td>\n",
              "      <td>-9.027530e-02</td>\n",
              "      <td>-1.123996e-01</td>\n",
              "      <td>-1.267807e-01</td>\n",
              "      <td>-1.156131e-01</td>\n",
              "      <td>-1.023071e-01</td>\n",
              "      <td>-7.639450e-02</td>\n",
              "      <td>-1.260974e-01</td>\n",
              "      <td>-1.377672e-01</td>\n",
              "      <td>25.000000</td>\n",
              "    </tr>\n",
              "    <tr>\n",
              "      <th>25%</th>\n",
              "      <td>-3.729927e-02</td>\n",
              "      <td>-4.464164e-02</td>\n",
              "      <td>-3.422907e-02</td>\n",
              "      <td>-3.665645e-02</td>\n",
              "      <td>-3.424784e-02</td>\n",
              "      <td>-3.035840e-02</td>\n",
              "      <td>-3.511716e-02</td>\n",
              "      <td>-3.949338e-02</td>\n",
              "      <td>-3.324879e-02</td>\n",
              "      <td>-3.317903e-02</td>\n",
              "      <td>87.000000</td>\n",
              "    </tr>\n",
              "    <tr>\n",
              "      <th>50%</th>\n",
              "      <td>5.383060e-03</td>\n",
              "      <td>-4.464164e-02</td>\n",
              "      <td>-7.283766e-03</td>\n",
              "      <td>-5.670611e-03</td>\n",
              "      <td>-4.320866e-03</td>\n",
              "      <td>-3.819065e-03</td>\n",
              "      <td>-6.584468e-03</td>\n",
              "      <td>-2.592262e-03</td>\n",
              "      <td>-1.947634e-03</td>\n",
              "      <td>-1.077698e-03</td>\n",
              "      <td>140.500000</td>\n",
              "    </tr>\n",
              "    <tr>\n",
              "      <th>75%</th>\n",
              "      <td>3.807591e-02</td>\n",
              "      <td>5.068012e-02</td>\n",
              "      <td>3.124802e-02</td>\n",
              "      <td>3.564384e-02</td>\n",
              "      <td>2.835801e-02</td>\n",
              "      <td>2.984439e-02</td>\n",
              "      <td>2.931150e-02</td>\n",
              "      <td>3.430886e-02</td>\n",
              "      <td>3.243323e-02</td>\n",
              "      <td>2.791705e-02</td>\n",
              "      <td>211.500000</td>\n",
              "    </tr>\n",
              "    <tr>\n",
              "      <th>max</th>\n",
              "      <td>1.107267e-01</td>\n",
              "      <td>5.068012e-02</td>\n",
              "      <td>1.705552e-01</td>\n",
              "      <td>1.320442e-01</td>\n",
              "      <td>1.539137e-01</td>\n",
              "      <td>1.987880e-01</td>\n",
              "      <td>1.811791e-01</td>\n",
              "      <td>1.852344e-01</td>\n",
              "      <td>1.335990e-01</td>\n",
              "      <td>1.356118e-01</td>\n",
              "      <td>346.000000</td>\n",
              "    </tr>\n",
              "  </tbody>\n",
              "</table>\n",
              "</div>"
            ],
            "text/plain": [
              "                age           sex  ...            s6      target\n",
              "count  4.420000e+02  4.420000e+02  ...  4.420000e+02  442.000000\n",
              "mean  -3.634285e-16  1.308343e-16  ... -3.412882e-16  152.133484\n",
              "std    4.761905e-02  4.761905e-02  ...  4.761905e-02   77.093005\n",
              "min   -1.072256e-01 -4.464164e-02  ... -1.377672e-01   25.000000\n",
              "25%   -3.729927e-02 -4.464164e-02  ... -3.317903e-02   87.000000\n",
              "50%    5.383060e-03 -4.464164e-02  ... -1.077698e-03  140.500000\n",
              "75%    3.807591e-02  5.068012e-02  ...  2.791705e-02  211.500000\n",
              "max    1.107267e-01  5.068012e-02  ...  1.356118e-01  346.000000\n",
              "\n",
              "[8 rows x 11 columns]"
            ]
          },
          "metadata": {
            "tags": []
          },
          "execution_count": 471
        }
      ]
    },
    {
      "cell_type": "code",
      "metadata": {
        "colab": {
          "base_uri": "https://localhost:8080/"
        },
        "id": "BPHFEXYmml7n",
        "outputId": "411d3d80-7943-4225-cef4-d344856d18b4"
      },
      "source": [
        "df_diabetes.info"
      ],
      "execution_count": 472,
      "outputs": [
        {
          "output_type": "execute_result",
          "data": {
            "text/plain": [
              "<bound method DataFrame.info of           age       sex       bmi  ...        s5        s6  target\n",
              "0    0.038076  0.050680  0.061696  ...  0.019908 -0.017646   151.0\n",
              "1   -0.001882 -0.044642 -0.051474  ... -0.068330 -0.092204    75.0\n",
              "2    0.085299  0.050680  0.044451  ...  0.002864 -0.025930   141.0\n",
              "3   -0.089063 -0.044642 -0.011595  ...  0.022692 -0.009362   206.0\n",
              "4    0.005383 -0.044642 -0.036385  ... -0.031991 -0.046641   135.0\n",
              "..        ...       ...       ...  ...       ...       ...     ...\n",
              "437  0.041708  0.050680  0.019662  ...  0.031193  0.007207   178.0\n",
              "438 -0.005515  0.050680 -0.015906  ... -0.018118  0.044485   104.0\n",
              "439  0.041708  0.050680 -0.015906  ... -0.046879  0.015491   132.0\n",
              "440 -0.045472 -0.044642  0.039062  ...  0.044528 -0.025930   220.0\n",
              "441 -0.045472 -0.044642 -0.073030  ... -0.004220  0.003064    57.0\n",
              "\n",
              "[442 rows x 11 columns]>"
            ]
          },
          "metadata": {
            "tags": []
          },
          "execution_count": 472
        }
      ]
    },
    {
      "cell_type": "markdown",
      "metadata": {
        "id": "3XPRhh1YVR7I"
      },
      "source": [
        "## Splitting the Data for Training and Testing"
      ]
    },
    {
      "cell_type": "code",
      "metadata": {
        "colab": {
          "base_uri": "https://localhost:8080/"
        },
        "id": "K5hFwKiDhyoP",
        "outputId": "0972869a-7ea5-46e9-81aa-69ab1092ea8e"
      },
      "source": [
        "df_diabetes.columns"
      ],
      "execution_count": 473,
      "outputs": [
        {
          "output_type": "execute_result",
          "data": {
            "text/plain": [
              "Index(['age', 'sex', 'bmi', 'bp', 's1', 's2', 's3', 's4', 's5', 's6',\n",
              "       'target'],\n",
              "      dtype='object')"
            ]
          },
          "metadata": {
            "tags": []
          },
          "execution_count": 473
        }
      ]
    },
    {
      "cell_type": "code",
      "metadata": {
        "id": "RS1ymmdXnZqz"
      },
      "source": [
        "# labels : y_train\n",
        "# features: X_train \n",
        "\n",
        "y_train = df_diabetes['target']\n",
        "X_train = df_diabetes.drop(columns=['target'])"
      ],
      "execution_count": 474,
      "outputs": []
    },
    {
      "cell_type": "code",
      "metadata": {
        "colab": {
          "base_uri": "https://localhost:8080/",
          "height": 534
        },
        "id": "nUN6veZWnkcz",
        "outputId": "c34567cf-4c04-4b14-b202-48d99b49bc28"
      },
      "source": [
        "X_train[0:15]"
      ],
      "execution_count": 475,
      "outputs": [
        {
          "output_type": "execute_result",
          "data": {
            "text/html": [
              "<div>\n",
              "<style scoped>\n",
              "    .dataframe tbody tr th:only-of-type {\n",
              "        vertical-align: middle;\n",
              "    }\n",
              "\n",
              "    .dataframe tbody tr th {\n",
              "        vertical-align: top;\n",
              "    }\n",
              "\n",
              "    .dataframe thead th {\n",
              "        text-align: right;\n",
              "    }\n",
              "</style>\n",
              "<table border=\"1\" class=\"dataframe\">\n",
              "  <thead>\n",
              "    <tr style=\"text-align: right;\">\n",
              "      <th></th>\n",
              "      <th>age</th>\n",
              "      <th>sex</th>\n",
              "      <th>bmi</th>\n",
              "      <th>bp</th>\n",
              "      <th>s1</th>\n",
              "      <th>s2</th>\n",
              "      <th>s3</th>\n",
              "      <th>s4</th>\n",
              "      <th>s5</th>\n",
              "      <th>s6</th>\n",
              "    </tr>\n",
              "  </thead>\n",
              "  <tbody>\n",
              "    <tr>\n",
              "      <th>0</th>\n",
              "      <td>0.038076</td>\n",
              "      <td>0.050680</td>\n",
              "      <td>0.061696</td>\n",
              "      <td>0.021872</td>\n",
              "      <td>-0.044223</td>\n",
              "      <td>-0.034821</td>\n",
              "      <td>-0.043401</td>\n",
              "      <td>-0.002592</td>\n",
              "      <td>0.019908</td>\n",
              "      <td>-0.017646</td>\n",
              "    </tr>\n",
              "    <tr>\n",
              "      <th>1</th>\n",
              "      <td>-0.001882</td>\n",
              "      <td>-0.044642</td>\n",
              "      <td>-0.051474</td>\n",
              "      <td>-0.026328</td>\n",
              "      <td>-0.008449</td>\n",
              "      <td>-0.019163</td>\n",
              "      <td>0.074412</td>\n",
              "      <td>-0.039493</td>\n",
              "      <td>-0.068330</td>\n",
              "      <td>-0.092204</td>\n",
              "    </tr>\n",
              "    <tr>\n",
              "      <th>2</th>\n",
              "      <td>0.085299</td>\n",
              "      <td>0.050680</td>\n",
              "      <td>0.044451</td>\n",
              "      <td>-0.005671</td>\n",
              "      <td>-0.045599</td>\n",
              "      <td>-0.034194</td>\n",
              "      <td>-0.032356</td>\n",
              "      <td>-0.002592</td>\n",
              "      <td>0.002864</td>\n",
              "      <td>-0.025930</td>\n",
              "    </tr>\n",
              "    <tr>\n",
              "      <th>3</th>\n",
              "      <td>-0.089063</td>\n",
              "      <td>-0.044642</td>\n",
              "      <td>-0.011595</td>\n",
              "      <td>-0.036656</td>\n",
              "      <td>0.012191</td>\n",
              "      <td>0.024991</td>\n",
              "      <td>-0.036038</td>\n",
              "      <td>0.034309</td>\n",
              "      <td>0.022692</td>\n",
              "      <td>-0.009362</td>\n",
              "    </tr>\n",
              "    <tr>\n",
              "      <th>4</th>\n",
              "      <td>0.005383</td>\n",
              "      <td>-0.044642</td>\n",
              "      <td>-0.036385</td>\n",
              "      <td>0.021872</td>\n",
              "      <td>0.003935</td>\n",
              "      <td>0.015596</td>\n",
              "      <td>0.008142</td>\n",
              "      <td>-0.002592</td>\n",
              "      <td>-0.031991</td>\n",
              "      <td>-0.046641</td>\n",
              "    </tr>\n",
              "    <tr>\n",
              "      <th>5</th>\n",
              "      <td>-0.092695</td>\n",
              "      <td>-0.044642</td>\n",
              "      <td>-0.040696</td>\n",
              "      <td>-0.019442</td>\n",
              "      <td>-0.068991</td>\n",
              "      <td>-0.079288</td>\n",
              "      <td>0.041277</td>\n",
              "      <td>-0.076395</td>\n",
              "      <td>-0.041180</td>\n",
              "      <td>-0.096346</td>\n",
              "    </tr>\n",
              "    <tr>\n",
              "      <th>6</th>\n",
              "      <td>-0.045472</td>\n",
              "      <td>0.050680</td>\n",
              "      <td>-0.047163</td>\n",
              "      <td>-0.015999</td>\n",
              "      <td>-0.040096</td>\n",
              "      <td>-0.024800</td>\n",
              "      <td>0.000779</td>\n",
              "      <td>-0.039493</td>\n",
              "      <td>-0.062913</td>\n",
              "      <td>-0.038357</td>\n",
              "    </tr>\n",
              "    <tr>\n",
              "      <th>7</th>\n",
              "      <td>0.063504</td>\n",
              "      <td>0.050680</td>\n",
              "      <td>-0.001895</td>\n",
              "      <td>0.066630</td>\n",
              "      <td>0.090620</td>\n",
              "      <td>0.108914</td>\n",
              "      <td>0.022869</td>\n",
              "      <td>0.017703</td>\n",
              "      <td>-0.035817</td>\n",
              "      <td>0.003064</td>\n",
              "    </tr>\n",
              "    <tr>\n",
              "      <th>8</th>\n",
              "      <td>0.041708</td>\n",
              "      <td>0.050680</td>\n",
              "      <td>0.061696</td>\n",
              "      <td>-0.040099</td>\n",
              "      <td>-0.013953</td>\n",
              "      <td>0.006202</td>\n",
              "      <td>-0.028674</td>\n",
              "      <td>-0.002592</td>\n",
              "      <td>-0.014956</td>\n",
              "      <td>0.011349</td>\n",
              "    </tr>\n",
              "    <tr>\n",
              "      <th>9</th>\n",
              "      <td>-0.070900</td>\n",
              "      <td>-0.044642</td>\n",
              "      <td>0.039062</td>\n",
              "      <td>-0.033214</td>\n",
              "      <td>-0.012577</td>\n",
              "      <td>-0.034508</td>\n",
              "      <td>-0.024993</td>\n",
              "      <td>-0.002592</td>\n",
              "      <td>0.067736</td>\n",
              "      <td>-0.013504</td>\n",
              "    </tr>\n",
              "    <tr>\n",
              "      <th>10</th>\n",
              "      <td>-0.096328</td>\n",
              "      <td>-0.044642</td>\n",
              "      <td>-0.083808</td>\n",
              "      <td>0.008101</td>\n",
              "      <td>-0.103389</td>\n",
              "      <td>-0.090561</td>\n",
              "      <td>-0.013948</td>\n",
              "      <td>-0.076395</td>\n",
              "      <td>-0.062913</td>\n",
              "      <td>-0.034215</td>\n",
              "    </tr>\n",
              "    <tr>\n",
              "      <th>11</th>\n",
              "      <td>0.027178</td>\n",
              "      <td>0.050680</td>\n",
              "      <td>0.017506</td>\n",
              "      <td>-0.033214</td>\n",
              "      <td>-0.007073</td>\n",
              "      <td>0.045972</td>\n",
              "      <td>-0.065491</td>\n",
              "      <td>0.071210</td>\n",
              "      <td>-0.096433</td>\n",
              "      <td>-0.059067</td>\n",
              "    </tr>\n",
              "    <tr>\n",
              "      <th>12</th>\n",
              "      <td>0.016281</td>\n",
              "      <td>-0.044642</td>\n",
              "      <td>-0.028840</td>\n",
              "      <td>-0.009113</td>\n",
              "      <td>-0.004321</td>\n",
              "      <td>-0.009769</td>\n",
              "      <td>0.044958</td>\n",
              "      <td>-0.039493</td>\n",
              "      <td>-0.030751</td>\n",
              "      <td>-0.042499</td>\n",
              "    </tr>\n",
              "    <tr>\n",
              "      <th>13</th>\n",
              "      <td>0.005383</td>\n",
              "      <td>0.050680</td>\n",
              "      <td>-0.001895</td>\n",
              "      <td>0.008101</td>\n",
              "      <td>-0.004321</td>\n",
              "      <td>-0.015719</td>\n",
              "      <td>-0.002903</td>\n",
              "      <td>-0.002592</td>\n",
              "      <td>0.038393</td>\n",
              "      <td>-0.013504</td>\n",
              "    </tr>\n",
              "    <tr>\n",
              "      <th>14</th>\n",
              "      <td>0.045341</td>\n",
              "      <td>-0.044642</td>\n",
              "      <td>-0.025607</td>\n",
              "      <td>-0.012556</td>\n",
              "      <td>0.017694</td>\n",
              "      <td>-0.000061</td>\n",
              "      <td>0.081775</td>\n",
              "      <td>-0.039493</td>\n",
              "      <td>-0.031991</td>\n",
              "      <td>-0.075636</td>\n",
              "    </tr>\n",
              "  </tbody>\n",
              "</table>\n",
              "</div>"
            ],
            "text/plain": [
              "         age       sex       bmi  ...        s4        s5        s6\n",
              "0   0.038076  0.050680  0.061696  ... -0.002592  0.019908 -0.017646\n",
              "1  -0.001882 -0.044642 -0.051474  ... -0.039493 -0.068330 -0.092204\n",
              "2   0.085299  0.050680  0.044451  ... -0.002592  0.002864 -0.025930\n",
              "3  -0.089063 -0.044642 -0.011595  ...  0.034309  0.022692 -0.009362\n",
              "4   0.005383 -0.044642 -0.036385  ... -0.002592 -0.031991 -0.046641\n",
              "5  -0.092695 -0.044642 -0.040696  ... -0.076395 -0.041180 -0.096346\n",
              "6  -0.045472  0.050680 -0.047163  ... -0.039493 -0.062913 -0.038357\n",
              "7   0.063504  0.050680 -0.001895  ...  0.017703 -0.035817  0.003064\n",
              "8   0.041708  0.050680  0.061696  ... -0.002592 -0.014956  0.011349\n",
              "9  -0.070900 -0.044642  0.039062  ... -0.002592  0.067736 -0.013504\n",
              "10 -0.096328 -0.044642 -0.083808  ... -0.076395 -0.062913 -0.034215\n",
              "11  0.027178  0.050680  0.017506  ...  0.071210 -0.096433 -0.059067\n",
              "12  0.016281 -0.044642 -0.028840  ... -0.039493 -0.030751 -0.042499\n",
              "13  0.005383  0.050680 -0.001895  ... -0.002592  0.038393 -0.013504\n",
              "14  0.045341 -0.044642 -0.025607  ... -0.039493 -0.031991 -0.075636\n",
              "\n",
              "[15 rows x 10 columns]"
            ]
          },
          "metadata": {
            "tags": []
          },
          "execution_count": 475
        }
      ]
    },
    {
      "cell_type": "code",
      "metadata": {
        "colab": {
          "base_uri": "https://localhost:8080/",
          "height": 204
        },
        "id": "ISpfZfh6WKCn",
        "outputId": "8a0d6dbb-d89c-4de4-a94c-daf62f6d4781"
      },
      "source": [
        "y_train = df_diabetes[['target']]\n",
        "y_train[:5]"
      ],
      "execution_count": 476,
      "outputs": [
        {
          "output_type": "execute_result",
          "data": {
            "text/html": [
              "<div>\n",
              "<style scoped>\n",
              "    .dataframe tbody tr th:only-of-type {\n",
              "        vertical-align: middle;\n",
              "    }\n",
              "\n",
              "    .dataframe tbody tr th {\n",
              "        vertical-align: top;\n",
              "    }\n",
              "\n",
              "    .dataframe thead th {\n",
              "        text-align: right;\n",
              "    }\n",
              "</style>\n",
              "<table border=\"1\" class=\"dataframe\">\n",
              "  <thead>\n",
              "    <tr style=\"text-align: right;\">\n",
              "      <th></th>\n",
              "      <th>target</th>\n",
              "    </tr>\n",
              "  </thead>\n",
              "  <tbody>\n",
              "    <tr>\n",
              "      <th>0</th>\n",
              "      <td>151.0</td>\n",
              "    </tr>\n",
              "    <tr>\n",
              "      <th>1</th>\n",
              "      <td>75.0</td>\n",
              "    </tr>\n",
              "    <tr>\n",
              "      <th>2</th>\n",
              "      <td>141.0</td>\n",
              "    </tr>\n",
              "    <tr>\n",
              "      <th>3</th>\n",
              "      <td>206.0</td>\n",
              "    </tr>\n",
              "    <tr>\n",
              "      <th>4</th>\n",
              "      <td>135.0</td>\n",
              "    </tr>\n",
              "  </tbody>\n",
              "</table>\n",
              "</div>"
            ],
            "text/plain": [
              "   target\n",
              "0   151.0\n",
              "1    75.0\n",
              "2   141.0\n",
              "3   206.0\n",
              "4   135.0"
            ]
          },
          "metadata": {
            "tags": []
          },
          "execution_count": 476
        }
      ]
    },
    {
      "cell_type": "code",
      "metadata": {
        "id": "kXP3TjQ7woZK"
      },
      "source": [
        "# labels : y_train\n",
        "# features: X_train \n",
        "\n",
        "X_train, X_test, y_train, y_test = train_test_split(X_train, y_train, test_size = 0.3)\n"
      ],
      "execution_count": 477,
      "outputs": []
    },
    {
      "cell_type": "code",
      "metadata": {
        "id": "8AH8u5ullfDv"
      },
      "source": [
        "from sklearn.preprocessing import MinMaxScaler\n",
        "import numpy as np"
      ],
      "execution_count": 478,
      "outputs": []
    },
    {
      "cell_type": "code",
      "metadata": {
        "id": "xcPROFsVgZbk"
      },
      "source": [
        "# Normalizing and scaling the data\n",
        "scaler = MinMaxScaler(feature_range=(0, 1))\n",
        "X_train = scaler.fit_transform(X_train)\n",
        "X_test = scaler.transform(X_test)"
      ],
      "execution_count": 479,
      "outputs": []
    },
    {
      "cell_type": "code",
      "metadata": {
        "colab": {
          "base_uri": "https://localhost:8080/"
        },
        "id": "GZBX2DOkviIz",
        "outputId": "88d58508-aec9-4c7d-f982-6cb7e48b17c6"
      },
      "source": [
        "X_train[:10]"
      ],
      "execution_count": 480,
      "outputs": [
        {
          "output_type": "execute_result",
          "data": {
            "text/plain": [
              "array([[0.7       , 0.        , 0.56465517, 0.23943662, 0.65445026,\n",
              "        0.57370518, 0.32467532, 0.42313117, 0.59503518, 0.57575758],\n",
              "       [0.25      , 0.        , 0.10775862, 0.35211268, 0.39267016,\n",
              "        0.35159363, 0.46753247, 0.14104372, 0.30934794, 0.24242424],\n",
              "       [0.33333333, 1.        , 0.25431034, 0.38967136, 0.41884817,\n",
              "        0.35856574, 0.38961039, 0.23272214, 0.50086413, 0.65151515],\n",
              "       [0.5       , 1.        , 0.33189655, 0.38028169, 0.37696335,\n",
              "        0.38346614, 0.22077922, 0.42313117, 0.50086413, 0.86363636],\n",
              "       [0.46666667, 0.        , 0.53017241, 0.81690141, 0.46596859,\n",
              "        0.39043825, 0.31168831, 0.28208745, 0.61652115, 0.43939394],\n",
              "       [0.4       , 0.        , 0.74568966, 0.43661972, 0.39267016,\n",
              "        0.29183267, 0.28571429, 0.28208745, 0.69779802, 0.65151515],\n",
              "       [0.7       , 1.        , 0.32327586, 0.32394366, 0.38743455,\n",
              "        0.37151394, 0.22077922, 0.42313117, 0.56437353, 0.60606061],\n",
              "       [0.56666667, 1.        , 0.39655172, 0.28169014, 0.04712042,\n",
              "        0.06673307, 0.22077922, 0.14104372, 0.51016984, 0.53030303],\n",
              "       [0.38333333, 0.        , 0.29310345, 0.4084507 , 0.4921466 ,\n",
              "        0.49900398, 0.20779221, 0.42313117, 0.4977113 , 0.46969697],\n",
              "       [0.68333333, 1.        , 0.64224138, 0.49295775, 0.56020942,\n",
              "        0.41832669, 0.2987013 , 0.42313117, 0.74706698, 0.81818182]])"
            ]
          },
          "metadata": {
            "tags": []
          },
          "execution_count": 480
        }
      ]
    },
    {
      "cell_type": "code",
      "metadata": {
        "colab": {
          "base_uri": "https://localhost:8080/"
        },
        "id": "GaARzmwql0VU",
        "outputId": "b61d8a57-9289-45e1-a230-f3a170be5c4a"
      },
      "source": [
        "X_train.shape"
      ],
      "execution_count": 481,
      "outputs": [
        {
          "output_type": "execute_result",
          "data": {
            "text/plain": [
              "(309, 10)"
            ]
          },
          "metadata": {
            "tags": []
          },
          "execution_count": 481
        }
      ]
    },
    {
      "cell_type": "code",
      "metadata": {
        "colab": {
          "base_uri": "https://localhost:8080/"
        },
        "id": "ilM18m6Yl382",
        "outputId": "a5b38324-ecfd-4367-8b69-0ad76430cda4"
      },
      "source": [
        "X_test.shape"
      ],
      "execution_count": 482,
      "outputs": [
        {
          "output_type": "execute_result",
          "data": {
            "text/plain": [
              "(133, 10)"
            ]
          },
          "metadata": {
            "tags": []
          },
          "execution_count": 482
        }
      ]
    },
    {
      "cell_type": "markdown",
      "metadata": {
        "id": "jYVI8xx9JM9y"
      },
      "source": [
        "## Building, training and testing the model using ANN"
      ]
    },
    {
      "cell_type": "code",
      "metadata": {
        "id": "s2jdQ36RaBAX"
      },
      "source": [
        "import tensorflow as tf\n",
        "from tensorflow import keras\n",
        "from keras import layers\n",
        "from keras.models import Sequential\n",
        "from keras.layers import Dense\n",
        "from keras.optimizers import SGD, RMSprop"
      ],
      "execution_count": 483,
      "outputs": []
    },
    {
      "cell_type": "code",
      "metadata": {
        "id": "W3JrWx_ywoqa"
      },
      "source": [
        "# Define Keras models\n",
        "\n",
        "model = Sequential()\n",
        "\n",
        "# input dimension has to be similar to the number of columns expected\n",
        "# activation is specified as 'relu' for the first layers\n",
        "\n",
        "model.add(layers.Dense(60, input_dim = 10, activation='relu'))\n",
        "model.add(layers.Dense(30, activation = 'relu'))\n",
        "\n",
        "\n",
        "model.add(Dense(1))  # default activation is linear\n"
      ],
      "execution_count": 484,
      "outputs": []
    },
    {
      "cell_type": "code",
      "metadata": {
        "colab": {
          "base_uri": "https://localhost:8080/"
        },
        "id": "nRYdVJUG05zV",
        "outputId": "6678c4f6-e6da-402c-f92e-1b8e0f6b140d"
      },
      "source": [
        "model.summary()"
      ],
      "execution_count": 485,
      "outputs": [
        {
          "output_type": "stream",
          "text": [
            "Model: \"sequential_14\"\n",
            "_________________________________________________________________\n",
            "Layer (type)                 Output Shape              Param #   \n",
            "=================================================================\n",
            "dense_46 (Dense)             (None, 60)                660       \n",
            "_________________________________________________________________\n",
            "dense_47 (Dense)             (None, 30)                1830      \n",
            "_________________________________________________________________\n",
            "dense_48 (Dense)             (None, 1)                 31        \n",
            "=================================================================\n",
            "Total params: 2,521\n",
            "Trainable params: 2,521\n",
            "Non-trainable params: 0\n",
            "_________________________________________________________________\n"
          ],
          "name": "stdout"
        }
      ]
    },
    {
      "cell_type": "markdown",
      "metadata": {
        "id": "amBcqMMhqDZI"
      },
      "source": [
        "MSE function caters for outliers as well, hence a higher loss.\n",
        "\n",
        "Mean Square Log Error (MSLE), a variation of the MSE function, does not pay attention to the outliers, hence a lower loss. "
      ]
    },
    {
      "cell_type": "code",
      "metadata": {
        "id": "joQzEqbubDHn"
      },
      "source": [
        "# Compile model - using MSLE\n",
        "\n",
        "opt = SGD (lr = 0.01, momentum = 0.9) # learning rate and momentum\n",
        "model.compile(loss = 'msle', optimizer = opt, metrics=['mae', 'mse']) \n",
        "\n",
        "# included MAE and MSE for comparison purposes\n"
      ],
      "execution_count": 554,
      "outputs": []
    },
    {
      "cell_type": "code",
      "metadata": {
        "colab": {
          "base_uri": "https://localhost:8080/",
          "height": 669
        },
        "id": "nGQ_JBZadAOp",
        "outputId": "b9933d1a-faac-4eed-e649-39e9f1c40a0c"
      },
      "source": [
        "# Fit model\n",
        "history = model.fit(X_train, y_train, validation_data=(X_test, y_test), epochs = 20, verbose=0)\n",
        "\n",
        "hist = pd.DataFrame(history.history)\n",
        "hist"
      ],
      "execution_count": 556,
      "outputs": [
        {
          "output_type": "execute_result",
          "data": {
            "text/html": [
              "<div>\n",
              "<style scoped>\n",
              "    .dataframe tbody tr th:only-of-type {\n",
              "        vertical-align: middle;\n",
              "    }\n",
              "\n",
              "    .dataframe tbody tr th {\n",
              "        vertical-align: top;\n",
              "    }\n",
              "\n",
              "    .dataframe thead th {\n",
              "        text-align: right;\n",
              "    }\n",
              "</style>\n",
              "<table border=\"1\" class=\"dataframe\">\n",
              "  <thead>\n",
              "    <tr style=\"text-align: right;\">\n",
              "      <th></th>\n",
              "      <th>loss</th>\n",
              "      <th>mae</th>\n",
              "      <th>mse</th>\n",
              "      <th>val_loss</th>\n",
              "      <th>val_mae</th>\n",
              "      <th>val_mse</th>\n",
              "    </tr>\n",
              "  </thead>\n",
              "  <tbody>\n",
              "    <tr>\n",
              "      <th>0</th>\n",
              "      <td>0.319548</td>\n",
              "      <td>66.429779</td>\n",
              "      <td>6002.418457</td>\n",
              "      <td>0.370189</td>\n",
              "      <td>66.178642</td>\n",
              "      <td>5831.714355</td>\n",
              "    </tr>\n",
              "    <tr>\n",
              "      <th>1</th>\n",
              "      <td>0.319545</td>\n",
              "      <td>66.429588</td>\n",
              "      <td>6002.413574</td>\n",
              "      <td>0.370184</td>\n",
              "      <td>66.178238</td>\n",
              "      <td>5831.663086</td>\n",
              "    </tr>\n",
              "    <tr>\n",
              "      <th>2</th>\n",
              "      <td>0.319542</td>\n",
              "      <td>66.429375</td>\n",
              "      <td>6002.411621</td>\n",
              "      <td>0.370178</td>\n",
              "      <td>66.177834</td>\n",
              "      <td>5831.612305</td>\n",
              "    </tr>\n",
              "    <tr>\n",
              "      <th>3</th>\n",
              "      <td>0.319539</td>\n",
              "      <td>66.429222</td>\n",
              "      <td>6002.415527</td>\n",
              "      <td>0.370173</td>\n",
              "      <td>66.177414</td>\n",
              "      <td>5831.558105</td>\n",
              "    </tr>\n",
              "    <tr>\n",
              "      <th>4</th>\n",
              "      <td>0.319536</td>\n",
              "      <td>66.429062</td>\n",
              "      <td>6002.419434</td>\n",
              "      <td>0.370167</td>\n",
              "      <td>66.176987</td>\n",
              "      <td>5831.502930</td>\n",
              "    </tr>\n",
              "    <tr>\n",
              "      <th>5</th>\n",
              "      <td>0.319533</td>\n",
              "      <td>66.428848</td>\n",
              "      <td>6002.416016</td>\n",
              "      <td>0.370161</td>\n",
              "      <td>66.176537</td>\n",
              "      <td>5831.446777</td>\n",
              "    </tr>\n",
              "    <tr>\n",
              "      <th>6</th>\n",
              "      <td>0.319529</td>\n",
              "      <td>66.428703</td>\n",
              "      <td>6002.417480</td>\n",
              "      <td>0.370156</td>\n",
              "      <td>66.176140</td>\n",
              "      <td>5831.395996</td>\n",
              "    </tr>\n",
              "    <tr>\n",
              "      <th>7</th>\n",
              "      <td>0.319526</td>\n",
              "      <td>66.428482</td>\n",
              "      <td>6002.410156</td>\n",
              "      <td>0.370150</td>\n",
              "      <td>66.175743</td>\n",
              "      <td>5831.346680</td>\n",
              "    </tr>\n",
              "    <tr>\n",
              "      <th>8</th>\n",
              "      <td>0.319523</td>\n",
              "      <td>66.428360</td>\n",
              "      <td>6002.411621</td>\n",
              "      <td>0.370145</td>\n",
              "      <td>66.175331</td>\n",
              "      <td>5831.293945</td>\n",
              "    </tr>\n",
              "    <tr>\n",
              "      <th>9</th>\n",
              "      <td>0.319520</td>\n",
              "      <td>66.428123</td>\n",
              "      <td>6002.404297</td>\n",
              "      <td>0.370140</td>\n",
              "      <td>66.174942</td>\n",
              "      <td>5831.244629</td>\n",
              "    </tr>\n",
              "    <tr>\n",
              "      <th>10</th>\n",
              "      <td>0.319517</td>\n",
              "      <td>66.427940</td>\n",
              "      <td>6002.402832</td>\n",
              "      <td>0.370134</td>\n",
              "      <td>66.174530</td>\n",
              "      <td>5831.192871</td>\n",
              "    </tr>\n",
              "    <tr>\n",
              "      <th>11</th>\n",
              "      <td>0.319514</td>\n",
              "      <td>66.427773</td>\n",
              "      <td>6002.405273</td>\n",
              "      <td>0.370129</td>\n",
              "      <td>66.174110</td>\n",
              "      <td>5831.139160</td>\n",
              "    </tr>\n",
              "    <tr>\n",
              "      <th>12</th>\n",
              "      <td>0.319511</td>\n",
              "      <td>66.427612</td>\n",
              "      <td>6002.407715</td>\n",
              "      <td>0.370123</td>\n",
              "      <td>66.173683</td>\n",
              "      <td>5831.083984</td>\n",
              "    </tr>\n",
              "    <tr>\n",
              "      <th>13</th>\n",
              "      <td>0.319507</td>\n",
              "      <td>66.427383</td>\n",
              "      <td>6002.401855</td>\n",
              "      <td>0.370118</td>\n",
              "      <td>66.173286</td>\n",
              "      <td>5831.034668</td>\n",
              "    </tr>\n",
              "    <tr>\n",
              "      <th>14</th>\n",
              "      <td>0.319504</td>\n",
              "      <td>66.427238</td>\n",
              "      <td>6002.406250</td>\n",
              "      <td>0.370112</td>\n",
              "      <td>66.172859</td>\n",
              "      <td>5830.979980</td>\n",
              "    </tr>\n",
              "    <tr>\n",
              "      <th>15</th>\n",
              "      <td>0.319502</td>\n",
              "      <td>66.427094</td>\n",
              "      <td>6002.413086</td>\n",
              "      <td>0.370106</td>\n",
              "      <td>66.172432</td>\n",
              "      <td>5830.924805</td>\n",
              "    </tr>\n",
              "    <tr>\n",
              "      <th>16</th>\n",
              "      <td>0.319498</td>\n",
              "      <td>66.426926</td>\n",
              "      <td>6002.408691</td>\n",
              "      <td>0.370101</td>\n",
              "      <td>66.172028</td>\n",
              "      <td>5830.875000</td>\n",
              "    </tr>\n",
              "    <tr>\n",
              "      <th>17</th>\n",
              "      <td>0.319495</td>\n",
              "      <td>66.426743</td>\n",
              "      <td>6002.410645</td>\n",
              "      <td>0.370095</td>\n",
              "      <td>66.171608</td>\n",
              "      <td>5830.822266</td>\n",
              "    </tr>\n",
              "    <tr>\n",
              "      <th>18</th>\n",
              "      <td>0.319492</td>\n",
              "      <td>66.426575</td>\n",
              "      <td>6002.409180</td>\n",
              "      <td>0.370090</td>\n",
              "      <td>66.171196</td>\n",
              "      <td>5830.769531</td>\n",
              "    </tr>\n",
              "    <tr>\n",
              "      <th>19</th>\n",
              "      <td>0.319489</td>\n",
              "      <td>66.426399</td>\n",
              "      <td>6002.410156</td>\n",
              "      <td>0.370085</td>\n",
              "      <td>66.170784</td>\n",
              "      <td>5830.717285</td>\n",
              "    </tr>\n",
              "  </tbody>\n",
              "</table>\n",
              "</div>"
            ],
            "text/plain": [
              "        loss        mae          mse  val_loss    val_mae      val_mse\n",
              "0   0.319548  66.429779  6002.418457  0.370189  66.178642  5831.714355\n",
              "1   0.319545  66.429588  6002.413574  0.370184  66.178238  5831.663086\n",
              "2   0.319542  66.429375  6002.411621  0.370178  66.177834  5831.612305\n",
              "3   0.319539  66.429222  6002.415527  0.370173  66.177414  5831.558105\n",
              "4   0.319536  66.429062  6002.419434  0.370167  66.176987  5831.502930\n",
              "5   0.319533  66.428848  6002.416016  0.370161  66.176537  5831.446777\n",
              "6   0.319529  66.428703  6002.417480  0.370156  66.176140  5831.395996\n",
              "7   0.319526  66.428482  6002.410156  0.370150  66.175743  5831.346680\n",
              "8   0.319523  66.428360  6002.411621  0.370145  66.175331  5831.293945\n",
              "9   0.319520  66.428123  6002.404297  0.370140  66.174942  5831.244629\n",
              "10  0.319517  66.427940  6002.402832  0.370134  66.174530  5831.192871\n",
              "11  0.319514  66.427773  6002.405273  0.370129  66.174110  5831.139160\n",
              "12  0.319511  66.427612  6002.407715  0.370123  66.173683  5831.083984\n",
              "13  0.319507  66.427383  6002.401855  0.370118  66.173286  5831.034668\n",
              "14  0.319504  66.427238  6002.406250  0.370112  66.172859  5830.979980\n",
              "15  0.319502  66.427094  6002.413086  0.370106  66.172432  5830.924805\n",
              "16  0.319498  66.426926  6002.408691  0.370101  66.172028  5830.875000\n",
              "17  0.319495  66.426743  6002.410645  0.370095  66.171608  5830.822266\n",
              "18  0.319492  66.426575  6002.409180  0.370090  66.171196  5830.769531\n",
              "19  0.319489  66.426399  6002.410156  0.370085  66.170784  5830.717285"
            ]
          },
          "metadata": {
            "tags": []
          },
          "execution_count": 556
        }
      ]
    },
    {
      "cell_type": "code",
      "metadata": {
        "colab": {
          "base_uri": "https://localhost:8080/"
        },
        "id": "R-mUCHejcvfq",
        "outputId": "569d2577-e5d4-4c23-cc93-c77cda431c46"
      },
      "source": [
        "# Evaluate the keras model\n",
        "train_model = model.evaluate(X_train, y_train, verbose=0)\n",
        "test_model = model.evaluate(X_test, y_test, verbose=0)\n",
        "\n",
        "print('Train :',train_model[0])\n",
        "print('Test :',test_model[0])"
      ],
      "execution_count": 553,
      "outputs": [
        {
          "output_type": "stream",
          "text": [
            "Train : 0.3196089565753937\n",
            "Test : 0.3702995181083679\n"
          ],
          "name": "stdout"
        }
      ]
    },
    {
      "cell_type": "code",
      "metadata": {
        "id": "R8HJ_fqwtPjs"
      },
      "source": [
        ""
      ],
      "execution_count": null,
      "outputs": []
    }
  ]
}